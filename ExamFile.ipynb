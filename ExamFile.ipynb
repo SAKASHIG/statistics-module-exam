{
 "cells": [
  {
   "cell_type": "code",
   "execution_count": null,
   "id": "f6d4c85a-aa90-4b08-a0cf-1461e14b5932",
   "metadata": {},
   "outputs": [],
   "source": [
    "import pandas as pd\n",
    "import numpy as np\n",
    "import os\n",
    "import matplotlib\n",
    "from matplotlib import pyplot as plt\n",
    "import pylab\n",
    "from pylab import plot,show,legend,title,xlabel,ylabel\n",
    "import seaborn as sns\n",
    "import scipy.stats as stats\n",
    "from sklearn.linear_model import LogisticRegression\n",
    "from sklearn.model_selection import train_test_split\n",
    "import statsmodels.api as sm\n",
    "from sklearn.metrics import classification_report, accuracy_score\n",
    "from sklearn.metrics import classification_report, accuracy_score"
   ]
  },
  {
   "cell_type": "code",
   "execution_count": null,
   "id": "525cfd8d-5c4b-4cad-bc42-f410a0589bd0",
   "metadata": {},
   "outputs": [],
   "source": [
    "main_df=pd.read_csv(\"data.csv\")"
   ]
  },
  {
   "cell_type": "code",
   "execution_count": null,
   "id": "f0193118-d66b-4555-b75a-a800dc074389",
   "metadata": {},
   "outputs": [],
   "source": [
    "main_df"
   ]
  },
  {
   "cell_type": "code",
   "execution_count": null,
   "id": "baac2eaa-2eba-41cc-bbee-b96cfbb65787",
   "metadata": {},
   "outputs": [],
   "source": [
    "pd.set_option(\"display.max_columns\",None)"
   ]
  },
  {
   "cell_type": "code",
   "execution_count": null,
   "id": "4e57f121-8df4-4bb1-a6b8-cac6d3f4f56a",
   "metadata": {},
   "outputs": [],
   "source": [
    "main_df"
   ]
  },
  {
   "cell_type": "code",
   "execution_count": null,
   "id": "18670978-8d51-4e7b-8c92-8e0cd5fc79ca",
   "metadata": {},
   "outputs": [],
   "source": [
    "main_df.info()"
   ]
  },
  {
   "cell_type": "code",
   "execution_count": null,
   "id": "45202595-7446-49a3-92d1-e32d1906a2eb",
   "metadata": {},
   "outputs": [],
   "source": [
    "main_df.isnull().sum()"
   ]
  },
  {
   "cell_type": "code",
   "execution_count": null,
   "id": "0de6ced9-fdef-4878-b0e1-453971b4667a",
   "metadata": {},
   "outputs": [],
   "source": [
    "main_df.duplicated().sum()"
   ]
  },
  {
   "cell_type": "code",
   "execution_count": null,
   "id": "620ee109-88f4-4cc6-abe7-7cc76b86a174",
   "metadata": {},
   "outputs": [],
   "source": [
    "main_df.describe()"
   ]
  },
  {
   "cell_type": "markdown",
   "id": "567b2b2b-0405-4c82-abfb-174b9c919e99",
   "metadata": {},
   "source": [
    "# WE HAVE TO CHECK Correlation"
   ]
  },
  {
   "cell_type": "code",
   "execution_count": null,
   "id": "2f96807e-9361-404f-8ff9-84aba3bfcfc4",
   "metadata": {},
   "outputs": [],
   "source": [
    "main_df.corr()"
   ]
  },
  {
   "cell_type": "code",
   "execution_count": null,
   "id": "74ad59e0-3fa2-44e2-8200-9034c17a4da3",
   "metadata": {},
   "outputs": [],
   "source": [
    "# Insights"
   ]
  },
  {
   "cell_type": "markdown",
   "id": "bcd56381-82a7-468b-a6a9-bf513ce86067",
   "metadata": {},
   "source": [
    "we check Liability-Assets\n",
    "o--> which not have Liability-Assets\n",
    "1--> Which is have Liability-Assets"
   ]
  },
  {
   "cell_type": "code",
   "execution_count": null,
   "id": "512753b3-8f80-46d6-b97d-65b70e4bd0df",
   "metadata": {},
   "outputs": [],
   "source": [
    "main_df[\" Liability-Assets Flag\"].value_counts()"
   ]
  },
  {
   "cell_type": "code",
   "execution_count": null,
   "id": "369eeeff-8c2f-41bb-94e0-07e8ec46a689",
   "metadata": {},
   "outputs": [],
   "source": [
    "main_df.loc[main_df[\"Bankrupt?\"]>0.10].index.to_list()"
   ]
  },
  {
   "cell_type": "code",
   "execution_count": null,
   "id": "7c5c1457-57a3-46e5-af29-3931041f6850",
   "metadata": {},
   "outputs": [],
   "source": [
    "(main_df.corr()[[\"Bankrupt?\"]]>0.10).index"
   ]
  },
  {
   "cell_type": "code",
   "execution_count": null,
   "id": "c4a3986b-172f-43fc-bcc1-24cdfbd3b4c4",
   "metadata": {},
   "outputs": [],
   "source": [
    "col=(main_df.corr()[[\"Bankrupt?\"]]<-20)\n",
    "print(col.to_markdown())"
   ]
  },
  {
   "cell_type": "code",
   "execution_count": null,
   "id": "cbc9b763-13c3-4ef1-9b8b-968eec6c19f6",
   "metadata": {},
   "outputs": [],
   "source": [
    "(main_df.corr()[[\"Bankrupt?\"]]>0.10).sum()"
   ]
  },
  {
   "cell_type": "code",
   "execution_count": null,
   "id": "bb67ac9a-a177-4fcf-87de-9c0c76921f49",
   "metadata": {},
   "outputs": [],
   "source": [
    "Correlation=main_df.corr()\n",
    "Correlation"
   ]
  },
  {
   "cell_type": "code",
   "execution_count": null,
   "id": "306a2a74-bef7-4e3a-985e-214dbd237536",
   "metadata": {},
   "outputs": [],
   "source": [
    "Corrdf = (Correlation['Bankrupt?']>0.15) | (Correlation['Bankrupt?']<-0.15)\n",
    "Corrdf.sum()"
   ]
  },
  {
   "cell_type": "code",
   "execution_count": null,
   "id": "b2e75b00-ba90-4fdc-aadf-bb3db747659b",
   "metadata": {},
   "outputs": [],
   "source": [
    "Corr_colms = (Corrdf[Corrdf].index.to_list())\n",
    "Corr_colms"
   ]
  },
  {
   "cell_type": "code",
   "execution_count": null,
   "id": "cfb540ad-80bb-4d2f-a49b-206082c86a8e",
   "metadata": {},
   "outputs": [],
   "source": [
    "new_df=main_df[Corr_colms]"
   ]
  },
  {
   "cell_type": "code",
   "execution_count": null,
   "id": "8ab094c6-6330-40c4-8619-b779b0892ac2",
   "metadata": {},
   "outputs": [],
   "source": [
    "new_df.shape"
   ]
  },
  {
   "cell_type": "code",
   "execution_count": null,
   "id": "97b059c8-434f-494a-860c-aa87352315e8",
   "metadata": {},
   "outputs": [],
   "source": [
    "new_df.corr()"
   ]
  },
  {
   "cell_type": "code",
   "execution_count": null,
   "id": "e4f38472-002e-4feb-90ce-441e9c3f0ddd",
   "metadata": {},
   "outputs": [],
   "source": [
    "new_df.corr()['Bankrupt?']"
   ]
  },
  {
   "cell_type": "code",
   "execution_count": null,
   "id": "4d822bd9-c8ba-44c1-a41a-a743eb777264",
   "metadata": {},
   "outputs": [],
   "source": [
    "for column in new_df:\n",
    "    if column != 'Bankrupt?':\n",
    "        new_df.boxplot(column, vert=False)\n",
    "        plt.ylabel(column)\n",
    "        plt.title(column)\n",
    "        plt.show()"
   ]
  },
  {
   "cell_type": "code",
   "execution_count": null,
   "id": "584b3779-0fdb-4dea-a804-995713bba819",
   "metadata": {},
   "outputs": [],
   "source": [
    "def impute(x):\n",
    "        q1=new_df[x].quantile(0.25)\n",
    "        q3=new_df[x].quantile(0.75)\n",
    "        iqr=q3-q1\n",
    "        lb=q1-1.5*iqr\n",
    "        ub=q3+1.5*iqr\n",
    "        idx=np.where(new_df[x]>ub)\n",
    "        new_df[x].iloc[idx]=ub\n",
    "        idx=np.where(new_df[x]<lb)\n",
    "        new_df[x].iloc[idx]=lb"
   ]
  },
  {
   "cell_type": "code",
   "execution_count": null,
   "id": "2e2bc66d-2a50-4518-8b41-2bb4bf55632f",
   "metadata": {},
   "outputs": [],
   "source": [
    "for column in new_df:\n",
    "    if column!='Bankrupt?':\n",
    "        impute(column)"
   ]
  },
  {
   "cell_type": "code",
   "execution_count": null,
   "id": "78a35e71-29b9-46b2-8dd3-207feb79ee9e",
   "metadata": {},
   "outputs": [],
   "source": [
    "for column in new_df:\n",
    "    if column != 'Bankrupt?':\n",
    "        new_df.boxplot(column, vert=False)\n",
    "        plt.ylabel(column)\n",
    "        plt.title(column)\n",
    "        plt.show()"
   ]
  },
  {
   "cell_type": "code",
   "execution_count": null,
   "id": "90334a54-bf10-41de-9462-318a109e22cd",
   "metadata": {},
   "outputs": [],
   "source": [
    "new_df.corr()"
   ]
  },
  {
   "cell_type": "code",
   "execution_count": null,
   "id": "e6b0ad39-7f7d-45c9-adc1-c6bcdda9df9a",
   "metadata": {
    "scrolled": true
   },
   "outputs": [],
   "source": [
    "plt.figure(figsize=(30,10))\n",
    "show(sns.heatmap(new_df.corr(),cmap=\"BrBG\",annot=True))"
   ]
  },
  {
   "cell_type": "code",
   "execution_count": null,
   "id": "c84236e1-72b1-43a3-9b5e-599051078a8d",
   "metadata": {},
   "outputs": [],
   "source": [
    "sns.pairplot(new_df)\n",
    "show(plt.suptitle('Pairplot of Features', y=1.02))"
   ]
  },
  {
   "cell_type": "code",
   "execution_count": null,
   "id": "21f815ba-8c62-4bb5-99d6-39b590a03127",
   "metadata": {},
   "outputs": [],
   "source": [
    "# hypothesis testing\n",
    "significant_features = []\n",
    "for column in new_df.columns[:-1]:  # Exclude the target variable\n",
    "    t_stat, p_value = stats.ttest_ind(new_df[column][new_df['Bankrupt?'] == 1], new_df[column][new_df['Bankrupt?'] == 0])\n",
    "    if p_value < 0.05:\n",
    "        significant_features.append(column)\n",
    "\n",
    "# Display significant features\n",
    "significant_features\n"
   ]
  },
  {
   "cell_type": "code",
   "execution_count": null,
   "id": "e4584aae-db70-4ec8-b078-e435f329db0c",
   "metadata": {},
   "outputs": [],
   "source": [
    "len(significant_features)"
   ]
  },
  {
   "cell_type": "code",
   "execution_count": null,
   "id": "f8ffda09-3cb6-4bd1-bf5a-753c3bafe28a",
   "metadata": {},
   "outputs": [],
   "source": [
    "x_train = new_df.iloc[:4500]\n",
    "x_train"
   ]
  },
  {
   "cell_type": "code",
   "execution_count": null,
   "id": "c4dd0139-27af-4d4c-9261-2efe5a97cdc9",
   "metadata": {},
   "outputs": [],
   "source": [
    "x_test = new_df.iloc[4500:]"
   ]
  },
  {
   "cell_type": "code",
   "execution_count": null,
   "id": "09d69515-0b2f-4cda-bdac-6c5129a43645",
   "metadata": {},
   "outputs": [],
   "source": [
    "y_train = x_train[\"Bankrupt?\"]\n",
    "y_test = x_test[\"Bankrupt?\"]"
   ]
  },
  {
   "cell_type": "code",
   "execution_count": null,
   "id": "acd8bc14-be4c-455a-86e4-119fa003a623",
   "metadata": {},
   "outputs": [],
   "source": [
    "x_train=x_train.drop(['Bankrupt?'],axis =1)\n",
    "x_test = x_test.drop(['Bankrupt?'],axis =1)"
   ]
  },
  {
   "cell_type": "code",
   "execution_count": null,
   "id": "0360445f-8cd7-4fd8-b941-5b40bf625d10",
   "metadata": {},
   "outputs": [],
   "source": [
    "x_train = sm.add_constant(x_train,prepend=False)\n",
    "x_test = sm.add_constant(x_test,prepend=False)"
   ]
  },
  {
   "cell_type": "code",
   "execution_count": null,
   "id": "43363348-8424-44c5-9764-5e35479a8f0f",
   "metadata": {},
   "outputs": [],
   "source": [
    "x_train = sm.add_constant(x_train,prepend=False)\n",
    "x_test = sm.add_constant(x_test,prepend=False)\n",
    "mod2 = sm.Logit(y_train,x_train).fit()"
   ]
  },
  {
   "cell_type": "code",
   "execution_count": null,
   "id": "863f2db9-c93f-4da1-bc45-6d30457cca7a",
   "metadata": {},
   "outputs": [],
   "source": [
    "print(mod2.summary())"
   ]
  },
  {
   "cell_type": "code",
   "execution_count": null,
   "id": "e79f3f2c-d38d-4c3c-9830-7b8056977885",
   "metadata": {},
   "outputs": [],
   "source": [
    "logistic_model=LogisticRegression()"
   ]
  },
  {
   "cell_type": "code",
   "execution_count": null,
   "id": "8a8386e8-3be7-49a6-ba1e-ba4a693b4810",
   "metadata": {},
   "outputs": [],
   "source": [
    "logistic_model.fit(x_train,y_train)"
   ]
  },
  {
   "cell_type": "code",
   "execution_count": null,
   "id": "efefeb86-9911-492a-a9b6-d862b6f9898b",
   "metadata": {},
   "outputs": [],
   "source": [
    "y_pred = logistic_model.predict(x_test)"
   ]
  },
  {
   "cell_type": "code",
   "execution_count": null,
   "id": "e634704a-20bc-4633-a70b-3bc923c5b411",
   "metadata": {},
   "outputs": [],
   "source": [
    "print(classification_report(y_test,y_pred))"
   ]
  },
  {
   "cell_type": "code",
   "execution_count": null,
   "id": "a4272651-ef86-471a-94a2-704648810f31",
   "metadata": {},
   "outputs": [],
   "source": [
    "print(f'Accuracy: {accuracy_score(y_test, y_pred)}')"
   ]
  },
  {
   "cell_type": "code",
   "execution_count": null,
   "id": "daa5761d-415f-4a66-af93-8ee3e47ed22e",
   "metadata": {},
   "outputs": [],
   "source": [
    "from sklearn.metrics import confusion_matrix"
   ]
  },
  {
   "cell_type": "code",
   "execution_count": null,
   "id": "6325597d-1940-4d9b-b97a-d2d33579064c",
   "metadata": {},
   "outputs": [],
   "source": [
    "print(confusion_matrix(y_test,y_pred))"
   ]
  },
  {
   "cell_type": "code",
   "execution_count": null,
   "id": "78e9b4b4-b64d-48d4-87a6-9e9b2ad814ab",
   "metadata": {},
   "outputs": [],
   "source": [
    "new_df[new_df[\"Bankrupt?\"]==0]"
   ]
  },
  {
   "cell_type": "code",
   "execution_count": null,
   "id": "891d1f20-6c0b-4a98-9809-4da31bc9e111",
   "metadata": {},
   "outputs": [],
   "source": [
    "new_df[new_df[\"Bankrupt?\"]==0]"
   ]
  },
  {
   "cell_type": "code",
   "execution_count": null,
   "id": "cfc0e524-dc0b-4293-b93f-676d491814ce",
   "metadata": {},
   "outputs": [],
   "source": [
    "#we will reject all this"
   ]
  },
  {
   "cell_type": "code",
   "execution_count": null,
   "id": "04998330-0342-49a3-abfa-18adfeae61f9",
   "metadata": {},
   "outputs": [],
   "source": [
    "new_df_zero=new_df[new_df[\"Bankrupt?\"]==0].sample(220)"
   ]
  },
  {
   "cell_type": "code",
   "execution_count": null,
   "id": "f9fe1f90-1a0b-4b5d-909d-efa5f31874fd",
   "metadata": {},
   "outputs": [],
   "source": [
    "len(new_df_zero)"
   ]
  },
  {
   "cell_type": "code",
   "execution_count": null,
   "id": "8271cf29-fda5-4275-9921-7d707f73a5d2",
   "metadata": {},
   "outputs": [],
   "source": [
    "new_df[new_df[\"Bankrupt?\"]!=0]"
   ]
  },
  {
   "cell_type": "code",
   "execution_count": null,
   "id": "e5780a1f-d6b2-44c7-ab4d-068bdff60c4f",
   "metadata": {},
   "outputs": [],
   "source": [
    "new_df_one = new_df[new_df[\"Bankrupt?\"]!=0].sample(220)"
   ]
  },
  {
   "cell_type": "code",
   "execution_count": null,
   "id": "4928224e-55dd-494e-84a9-be39b1a0127c",
   "metadata": {},
   "outputs": [],
   "source": [
    "len(new_df_one)"
   ]
  },
  {
   "cell_type": "code",
   "execution_count": null,
   "id": "a72dc650-ec35-4b15-97fd-8a3d889271c3",
   "metadata": {},
   "outputs": [],
   "source": [
    "new_bank = pd.concat([new_df_zero,new_df_one], axis=0)"
   ]
  },
  {
   "cell_type": "code",
   "execution_count": null,
   "id": "9447a4ce-d1b0-4597-a599-5d082fa6bc80",
   "metadata": {},
   "outputs": [],
   "source": [
    "len(new_bank)"
   ]
  },
  {
   "cell_type": "code",
   "execution_count": null,
   "id": "e9e240f9-3b3c-4b76-a4d8-95acec2423a3",
   "metadata": {},
   "outputs": [],
   "source": [
    "X_train, X_test, y_train, y_test = train_test_split(new_bank.drop(['Bankrupt?'], axis=1), new_bank['Bankrupt?'], test_size=0.2)"
   ]
  },
  {
   "cell_type": "code",
   "execution_count": null,
   "id": "bd1e0f70-9534-45d7-b85c-d78bf43870e2",
   "metadata": {},
   "outputs": [],
   "source": [
    "X_train = sm.add_constant(X_train,prepend=False)\n",
    "X_test = sm.add_constant(X_test,prepend=False)"
   ]
  },
  {
   "cell_type": "code",
   "execution_count": null,
   "id": "7c71f5db-26f8-41f0-a1b6-ea2f46bc9b00",
   "metadata": {},
   "outputs": [],
   "source": [
    "mod2 = sm.Logit(y_train,X_train).fit()"
   ]
  },
  {
   "cell_type": "code",
   "execution_count": null,
   "id": "af5b7564-81a9-44bf-87f1-5434b8f4a294",
   "metadata": {},
   "outputs": [],
   "source": [
    "print(mod2.summary())"
   ]
  },
  {
   "cell_type": "code",
   "execution_count": null,
   "id": "af820b95-8dbf-43f2-8b32-418f84b80ba6",
   "metadata": {},
   "outputs": [],
   "source": [
    "logistic_model=LogisticRegression()"
   ]
  },
  {
   "cell_type": "code",
   "execution_count": null,
   "id": "0b7714d5-6e82-4b5a-bc60-22da60a02480",
   "metadata": {},
   "outputs": [],
   "source": [
    "logistic_model.fit(X_train,y_train)"
   ]
  },
  {
   "cell_type": "code",
   "execution_count": null,
   "id": "c7cf1848-3377-417a-a668-8610b0f6c49d",
   "metadata": {},
   "outputs": [],
   "source": [
    "y_pred = logistic_model.predict(X_test)"
   ]
  },
  {
   "cell_type": "code",
   "execution_count": null,
   "id": "4e91bfec-290e-4a24-80eb-6dcd5eeb6967",
   "metadata": {},
   "outputs": [],
   "source": [
    "print(classification_report(y_test,y_pred))"
   ]
  },
  {
   "cell_type": "code",
   "execution_count": null,
   "id": "840e98d7-2a24-45dd-8069-d50b0b3c48be",
   "metadata": {},
   "outputs": [],
   "source": [
    "print(f'Accuracy: {accuracy_score(y_test, y_pred)}')"
   ]
  },
  {
   "cell_type": "code",
   "execution_count": null,
   "id": "2c0cebeb-472f-48ec-8167-f310b5128feb",
   "metadata": {},
   "outputs": [],
   "source": [
    "from sklearn.metrics import confusion_matrix"
   ]
  },
  {
   "cell_type": "code",
   "execution_count": null,
   "id": "f51b3d44-5f90-4e49-b094-899058c04d0f",
   "metadata": {},
   "outputs": [],
   "source": [
    "print(confusion_matrix(y_test,y_test))"
   ]
  },
  {
   "cell_type": "code",
   "execution_count": null,
   "id": "fd7a25a6-e38f-499a-b30c-4290397c005f",
   "metadata": {},
   "outputs": [],
   "source": []
  }
 ],
 "metadata": {
  "kernelspec": {
   "display_name": "Python 3 (ipykernel)",
   "language": "python",
   "name": "python3"
  },
  "language_info": {
   "codemirror_mode": {
    "name": "ipython",
    "version": 3
   },
   "file_extension": ".py",
   "mimetype": "text/x-python",
   "name": "python",
   "nbconvert_exporter": "python",
   "pygments_lexer": "ipython3",
   "version": "3.12.2"
  },
  "widgets": {
   "application/vnd.jupyter.widget-state+json": {
    "state": {},
    "version_major": 2,
    "version_minor": 0
   }
  }
 },
 "nbformat": 4,
 "nbformat_minor": 5
}
